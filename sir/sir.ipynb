{
 "cells": [
  {
   "metadata": {},
   "cell_type": "markdown",
   "source": [
    "# SIR model with constant transmission rate\n",
    "\n",
    "Solving the SIR model with constant transmission rate $\\beta$ and recovery rate $\\delta$.\n",
    "\n",
    "$$\n",
    "\\begin{cases}\n",
    "\\frac{dS}{dt} &= -\\frac{\\beta}{N} I S, \\\\\n",
    "\\frac{dI}{dt} &= \\frac{\\beta}{N} I S - \\delta I, \\\\\n",
    "\\frac{dR}{dt} &= \\delta I,\n",
    "\\end{cases}\n",
    "$$\n",
    "\n",
    "where $t \\in [0, 90]$ and with the initial conditions $S(0) = N - 1$, $I(0) = 1$, and $R(0) = 0$."
   ],
   "id": "cd96e135617f2f33"
  },
  {
   "metadata": {},
   "cell_type": "markdown",
   "source": [
    "## Environment Setup\n",
    "\n",
    "Load .env file, which specifies which backend DeepXDE should use"
   ],
   "id": "e2da7f1308d32abc"
  },
  {
   "metadata": {
    "ExecuteTime": {
     "end_time": "2024-11-22T08:44:41.679397Z",
     "start_time": "2024-11-22T08:44:41.657344Z"
    }
   },
   "cell_type": "code",
   "source": [
    "from dotenv import load_dotenv\n",
    "\n",
    "load_dotenv()"
   ],
   "id": "a412901637cacabd",
   "outputs": [
    {
     "data": {
      "text/plain": [
       "True"
      ]
     },
     "execution_count": 1,
     "metadata": {},
     "output_type": "execute_result"
    }
   ],
   "execution_count": 1
  },
  {
   "metadata": {
    "ExecuteTime": {
     "end_time": "2024-11-22T08:44:46.987893Z",
     "start_time": "2024-11-22T08:44:41.689945Z"
    }
   },
   "cell_type": "code",
   "source": [
    "import torch\n",
    "import deepxde as dde\n",
    "import numpy as np\n",
    "import seaborn as sns\n",
    "import matplotlib.pyplot as plt\n",
    "from scipy.integrate import odeint\n",
    "from scipy.interpolate import interp1d"
   ],
   "id": "d6a19c5d1ead3895",
   "outputs": [
    {
     "name": "stderr",
     "output_type": "stream",
     "text": [
      "Using backend: pytorch\n",
      "Other supported backends: tensorflow.compat.v1, tensorflow, jax, paddle.\n",
      "paddle supports more examples now and is recommended.\n"
     ]
    }
   ],
   "execution_count": 2
  },
  {
   "metadata": {},
   "cell_type": "markdown",
   "source": "Log framework versions, expected to match the environment.yaml",
   "id": "e44734dd097ae2b0"
  },
  {
   "metadata": {
    "ExecuteTime": {
     "end_time": "2024-11-22T08:44:47.326640Z",
     "start_time": "2024-11-22T08:44:47.324260Z"
    }
   },
   "cell_type": "code",
   "source": [
    "print(\"using PyTorch version:\", torch.__version__)\n",
    "print(\"using DeepXDE version:\", dde.__version__)"
   ],
   "id": "a8b389ed6c25fcf5",
   "outputs": [
    {
     "name": "stdout",
     "output_type": "stream",
     "text": [
      "using PyTorch version: 2.5.1\n",
      "using DeepXDE version: 1.12.2\n"
     ]
    }
   ],
   "execution_count": 3
  },
  {
   "metadata": {},
   "cell_type": "markdown",
   "source": "Enable latex in matplotlib and set seaborn theme.",
   "id": "1b9c15f1ae2cb676"
  },
  {
   "metadata": {
    "ExecuteTime": {
     "end_time": "2024-11-22T08:44:47.337983Z",
     "start_time": "2024-11-22T08:44:47.334718Z"
    }
   },
   "cell_type": "code",
   "source": [
    "plt.rc('text', usetex=True)\n",
    "plt.rc('font', family='serif')\n",
    "\n",
    "sns.set_theme(style=\"darkgrid\")"
   ],
   "id": "906731eda589b4fd",
   "outputs": [],
   "execution_count": 4
  },
  {
   "metadata": {},
   "cell_type": "markdown",
   "source": "Set random seed for reproducibility",
   "id": "ebee28b825261f1b"
  },
  {
   "metadata": {
    "ExecuteTime": {
     "end_time": "2024-11-22T08:44:47.377344Z",
     "start_time": "2024-11-22T08:44:47.345297Z"
    }
   },
   "cell_type": "code",
   "source": [
    "seed = 2322\n",
    "\n",
    "np.random.seed(seed)\n",
    "torch.manual_seed(seed)\n",
    "dde.config.set_random_seed(seed)"
   ],
   "id": "e1c90eee8a28a83",
   "outputs": [],
   "execution_count": 5
  },
  {
   "metadata": {},
   "cell_type": "markdown",
   "source": [
    "## Generate synthetic data\n",
    "\n",
    "Building a SIR model to generate a discrete synthetic dataset in a closed time interval.\n",
    "\n",
    "This dataset will be used as a starting point for creating both the true solution used during the l2 regularization term and observed data used during the training of the network.\n",
    "\n",
    "The following parameters are used (using Italy as reference):"
   ],
   "id": "ddcdc47bea83e4d5"
  },
  {
   "metadata": {
    "ExecuteTime": {
     "end_time": "2024-11-22T08:44:47.401765Z",
     "start_time": "2024-11-22T08:44:47.399133Z"
    }
   },
   "cell_type": "code",
   "source": [
    "N = 56e6  # total population\n",
    "delta = 1 / 5  # recovery rate (1 / mean infectious period)\n",
    "r0 = 3.0  # basic reproduction number\n",
    "beta = delta * r0  # transmission rate"
   ],
   "id": "88fc6d8ce2188911",
   "outputs": [],
   "execution_count": 6
  },
  {
   "metadata": {},
   "cell_type": "markdown",
   "source": "The following time interval is used:",
   "id": "88d55df1c31a738f"
  },
  {
   "metadata": {
    "ExecuteTime": {
     "end_time": "2024-11-22T08:44:47.411232Z",
     "start_time": "2024-11-22T08:44:47.409264Z"
    }
   },
   "cell_type": "code",
   "source": "T0, TF = 0, 90  # (days)",
   "id": "49e679367cac31b9",
   "outputs": [],
   "execution_count": 7
  },
  {
   "metadata": {},
   "cell_type": "markdown",
   "source": "Define the SIR model and the initial conditions.",
   "id": "ecb55c3916b64cf0"
  },
  {
   "metadata": {
    "ExecuteTime": {
     "end_time": "2024-11-22T08:44:47.420946Z",
     "start_time": "2024-11-22T08:44:47.418136Z"
    }
   },
   "cell_type": "code",
   "source": [
    "def SIR(x, t, delta, beta, N):\n",
    "  S, I, R = x\n",
    "  _lambda = beta * I / N\n",
    "  dSdt = -_lambda * S\n",
    "  dIdt = _lambda * S - delta * I\n",
    "  dRdt = delta * I\n",
    "  return [dSdt, dIdt, dRdt]\n",
    "\n",
    "\n",
    "S0 = N - 1\n",
    "I0 = 1\n",
    "R0 = 0\n",
    "x0 = [S0, I0, R0]"
   ],
   "id": "c21666baaa148c5b",
   "outputs": [],
   "execution_count": 8
  },
  {
   "metadata": {},
   "cell_type": "markdown",
   "source": "Define a function to generate a discrete solution for the SIR model based on a time interval.",
   "id": "ecf3d3b41dc12a33"
  },
  {
   "metadata": {
    "ExecuteTime": {
     "end_time": "2024-11-22T08:44:47.429545Z",
     "start_time": "2024-11-22T08:44:47.426952Z"
    }
   },
   "cell_type": "code",
   "source": [
    "def solve_sir(t):\n",
    "  x = odeint(SIR, x0, t, args=(delta, beta, N))\n",
    "  S = x[:, 0]\n",
    "  I = x[:, 1]\n",
    "  R = x[:, 2]\n",
    "  return S, I, R"
   ],
   "id": "a1378579e2dfd159",
   "outputs": [],
   "execution_count": 9
  },
  {
   "metadata": {},
   "cell_type": "markdown",
   "source": "Generate a synthetic dataset and a synthetic observation of $I(t)$ by adding some noise to the true solution.",
   "id": "dffa5c372fb47270"
  },
  {
   "metadata": {
    "ExecuteTime": {
     "end_time": "2024-11-22T08:44:47.442926Z",
     "start_time": "2024-11-22T08:44:47.436784Z"
    }
   },
   "cell_type": "code",
   "source": [
    "t_data = np.linspace(T0, TF, TF - T0)\n",
    "S_data, I_data, R_data = solve_sir(t_data)\n",
    "\n",
    "I_obs = np.random.poisson(I_data)"
   ],
   "id": "c9a60b424aa842cc",
   "outputs": [],
   "execution_count": 10
  },
  {
   "metadata": {},
   "cell_type": "markdown",
   "source": "Plot the synthetic dataset and the observed $I(t)$.",
   "id": "dda6c03111470991"
  },
  {
   "metadata": {
    "ExecuteTime": {
     "end_time": "2024-11-22T08:44:48.274360Z",
     "start_time": "2024-11-22T08:44:47.452104Z"
    }
   },
   "cell_type": "code",
   "source": [
    "fig, ax = plt.subplots(1, 1, figsize=(12, 6))\n",
    "\n",
    "sns.lineplot(x=t_data, y=S_data, ax=ax, label=r\"$S(t)$\")\n",
    "sns.lineplot(x=t_data, y=I_data, ax=ax, label=r\"$I(t)$\")\n",
    "sns.lineplot(x=t_data, y=R_data, ax=ax, label=r\"$R(t)$\")\n",
    "sns.scatterplot(x=t_data, y=I_obs, ax=ax, label=r\"Observed $I(t)$\")\n",
    "\n",
    "plt.title(\n",
    "  r\"SIR Model with $\\beta = {:.2f}$ and $\\delta = {:.2f}$\".format(beta, delta)\n",
    ")\n",
    "plt.xlabel(r\"Time $t$\")\n",
    "plt.ylabel(r\"Population\")\n",
    "\n",
    "plt.savefig(\"synthetic_data.png\")"
   ],
   "id": "125d79206de87434",
   "outputs": [
    {
     "data": {
      "text/plain": [
       "<Figure size 1200x600 with 1 Axes>"
      ],
      "image/png": "[encoded data removed]"
     },
     "metadata": {},
     "output_type": "display_data"
    }
   ],
   "execution_count": 11
  },
  {
   "metadata": {},
   "cell_type": "markdown",
   "source": [
    "Scale both dataset and observation by a constant $C$ and into a time interval $[0, 1]$.\n",
    "\n",
    "This is necessary to avoid numerical instability during the training of the network."
   ],
   "id": "d589807e3d43c8ee"
  },
  {
   "metadata": {
    "ExecuteTime": {
     "end_time": "2024-11-22T08:44:48.289462Z",
     "start_time": "2024-11-22T08:44:48.286348Z"
    }
   },
   "cell_type": "code",
   "source": [
    "C = 1e5\n",
    "\n",
    "t_data_sc = t_data / TF\n",
    "S_data_sc = S_data / C\n",
    "I_data_sc = I_data / C\n",
    "R_data_sc = R_data / C\n",
    "\n",
    "I_obs_sc = I_obs / C"
   ],
   "id": "6b71be91134ea908",
   "outputs": [],
   "execution_count": 12
  },
  {
   "metadata": {},
   "cell_type": "markdown",
   "source": [
    "Create a function to compute the true solution for any time point.\n",
    "\n",
    "It uses an interpolation function applied on a more dense time interval."
   ],
   "id": "6b48e6b5f711ff3e"
  },
  {
   "metadata": {
    "ExecuteTime": {
     "end_time": "2024-11-22T08:44:48.311536Z",
     "start_time": "2024-11-22T08:44:48.302271Z"
    }
   },
   "cell_type": "code",
   "source": [
    "t_dense = np.linspace(T0, TF, 1000)\n",
    "S_dense, I_dense, R_dense = solve_sir(t_dense)\n",
    "\n",
    "t_dense_sc = t_dense / TF\n",
    "S_dense_sc = S_dense / C\n",
    "I_dense_sc = I_dense / C\n",
    "R_dense_sc = R_dense / C\n",
    "\n",
    "S_interp = interp1d(t_dense_sc, S_dense, kind='cubic', fill_value=\"extrapolate\")\n",
    "I_interp = interp1d(t_dense_sc, I_dense, kind='cubic', fill_value=\"extrapolate\")\n",
    "R_interp = interp1d(t_dense_sc, R_dense, kind='cubic', fill_value=\"extrapolate\")\n",
    "\n",
    "\n",
    "def true_solution(t):\n",
    "  t = t.flatten()\n",
    "  S = S_interp(t)\n",
    "  I = I_interp(t)\n",
    "  R = R_interp(t)\n",
    "  return np.hstack((S.reshape(-1, 1), I.reshape(-1, 1), R.reshape(-1, 1)))"
   ],
   "id": "26678127f2b33845",
   "outputs": [],
   "execution_count": 13
  },
  {
   "metadata": {},
   "cell_type": "markdown",
   "source": "## Modelling the Network\n",
   "id": "8eb2b3eb445eec20"
  },
  {
   "metadata": {},
   "cell_type": "markdown",
   "source": "Define the time domain geometry, scaled to the range [0, 1].",
   "id": "fe3a377d61ea38e8"
  },
  {
   "metadata": {
    "ExecuteTime": {
     "end_time": "2024-11-22T08:44:48.335870Z",
     "start_time": "2024-11-22T08:44:48.332459Z"
    }
   },
   "cell_type": "code",
   "source": "geom = dde.geometry.TimeDomain(T0 / TF, TF / TF)",
   "id": "3b1ec277d3c7cb2a",
   "outputs": [],
   "execution_count": 14
  },
  {
   "metadata": {},
   "cell_type": "markdown",
   "source": "Define the beta parameter as a trainable variable with initial guess.",
   "id": "10e28708322fbfdc"
  },
  {
   "metadata": {
    "ExecuteTime": {
     "end_time": "2024-11-22T08:44:48.365320Z",
     "start_time": "2024-11-22T08:44:48.358025Z"
    }
   },
   "cell_type": "code",
   "source": "beta_var = dde.Variable(0.5)",
   "id": "22e369f9cc13e482",
   "outputs": [],
   "execution_count": 15
  },
  {
   "metadata": {},
   "cell_type": "markdown",
   "source": "Define the ODE system.",
   "id": "b0ca58c1727b24a7"
  },
  {
   "metadata": {
    "ExecuteTime": {
     "end_time": "2024-11-22T08:44:48.430878Z",
     "start_time": "2024-11-22T08:44:48.425456Z"
    }
   },
   "cell_type": "code",
   "source": [
    "def ode_system(t, y):\n",
    "  S = y[:, 0:1]\n",
    "  I = y[:, 1:2]\n",
    "  R = y[:, 2:3]\n",
    "  dS_t = dde.grad.jacobian(y, t, i=0)\n",
    "  dI_t = dde.grad.jacobian(y, t, i=1)\n",
    "  dR_t = dde.grad.jacobian(y, t, i=2)\n",
    "\n",
    "  _lambda = beta_var * I / N\n",
    "  res_s = dS_t - (- _lambda * S)\n",
    "  res_i = dI_t - (_lambda * S - delta * I)\n",
    "  res_r = dR_t - (delta * I)\n",
    "  return torch.cat([res_s, res_i, res_r], dim=1)"
   ],
   "id": "2562ebc8c92c3f4a",
   "outputs": [],
   "execution_count": 16
  },
  {
   "metadata": {},
   "cell_type": "markdown",
   "source": "Define the initial condition.",
   "id": "e92ccf4ad6bb0698"
  },
  {
   "metadata": {
    "ExecuteTime": {
     "end_time": "2024-11-22T08:44:48.464177Z",
     "start_time": "2024-11-22T08:44:48.459059Z"
    }
   },
   "cell_type": "code",
   "source": [
    "def boundary_ic(t, on_initial):\n",
    "  return dde.utils.isclose(t[0], T0 / TF)\n",
    "  # return on_initial\n",
    "\n",
    "\n",
    "ic_S = dde.icbc.IC(geom, lambda t: (N - 1) / C, boundary_ic, component=0)\n",
    "ic_I = dde.icbc.IC(geom, lambda t: 1 / C, boundary_ic, component=1)\n",
    "ic_R = dde.icbc.IC(geom, lambda t: 0.0, boundary_ic, component=2)"
   ],
   "id": "83f3e01007938643",
   "outputs": [],
   "execution_count": 17
  },
  {
   "metadata": {},
   "cell_type": "markdown",
   "source": "Define the boundary condition using the observed $I(t)$ data.",
   "id": "7e3ab14485cca3a1"
  },
  {
   "metadata": {
    "ExecuteTime": {
     "end_time": "2024-11-22T08:44:48.499056Z",
     "start_time": "2024-11-22T08:44:48.494344Z"
    }
   },
   "cell_type": "code",
   "source": [
    "observe_I = dde.icbc.PointSetBC(\n",
    "  t_data_sc.reshape(-1, 1),\n",
    "  I_obs_sc.reshape(-1, 1),\n",
    "  component=1  # index of I(t) in the network output\n",
    ")"
   ],
   "id": "c9fc004ad69a7c4d",
   "outputs": [],
   "execution_count": 18
  },
  {
   "metadata": {},
   "cell_type": "markdown",
   "source": [
    "Define the ODE problem with the ICs and BCs.\n",
    "\n",
    "We use 2000 points inside the domain and 2 points on the boundary (the start and the end of the time domain).\n",
    "\n",
    "We use the synthetic (and scaled) time domain to define the points where the data is observed."
   ],
   "id": "c32d66791d4c229"
  },
  {
   "metadata": {
    "ExecuteTime": {
     "end_time": "2024-11-22T08:44:48.713889Z",
     "start_time": "2024-11-22T08:44:48.529810Z"
    }
   },
   "cell_type": "code",
   "source": [
    "data = dde.data.PDE(\n",
    "  geom,\n",
    "  ode_system,\n",
    "  [ic_S, ic_I, ic_R, observe_I],\n",
    "  num_domain=2000,\n",
    "  num_boundary=2,\n",
    "  anchors=t_data_sc.reshape(-1, 1),\n",
    "  solution=true_solution,\n",
    "  num_test=100\n",
    ")"
   ],
   "id": "94d4fde122d7ce0a",
   "outputs": [],
   "execution_count": 19
  },
  {
   "metadata": {},
   "cell_type": "markdown",
   "source": "Define the network.",
   "id": "bd10a8dbbc5a2f39"
  },
  {
   "metadata": {
    "ExecuteTime": {
     "end_time": "2024-11-22T08:44:48.746188Z",
     "start_time": "2024-11-22T08:44:48.738941Z"
    }
   },
   "cell_type": "code",
   "source": [
    "layer_size = [1] + [50] * 3 + [3]\n",
    "activation = \"tanh\"\n",
    "initializer = \"Glorot uniform\"\n",
    "\n",
    "net = dde.nn.FNN(layer_size, activation, initializer)"
   ],
   "id": "f3358d0126bb6af8",
   "outputs": [],
   "execution_count": 20
  },
  {
   "metadata": {},
   "cell_type": "markdown",
   "source": "Define the model, including the beta parameter as an external trainable variable.",
   "id": "eecb9392189ad458"
  },
  {
   "metadata": {
    "ExecuteTime": {
     "end_time": "2024-11-22T08:44:51.639440Z",
     "start_time": "2024-11-22T08:44:48.769409Z"
    }
   },
   "cell_type": "code",
   "source": [
    "model = dde.Model(data, net)\n",
    "\n",
    "model.compile(\n",
    "  optimizer=\"adam\",\n",
    "  lr=0.001,\n",
    "  external_trainable_variables=[beta_var],\n",
    "  metrics=[\"l2 relative error\"]\n",
    ")"
   ],
   "id": "636a636a248b2750",
   "outputs": [
    {
     "name": "stdout",
     "output_type": "stream",
     "text": [
      "Compiling model...\n",
      "'compile' took 2.867182 s\n",
      "\n"
     ]
    }
   ],
   "execution_count": 21
  },
  {
   "metadata": {},
   "cell_type": "markdown",
   "source": "Train the model.",
   "id": "11b481927cd155f2"
  },
  {
   "metadata": {
    "ExecuteTime": {
     "end_time": "2024-11-22T08:47:22.404023Z",
     "start_time": "2024-11-22T08:44:51.659242Z"
    }
   },
   "cell_type": "code",
   "source": "loss_history, train_state = model.train(iterations=20000)",
   "id": "46909804b009527f",
   "outputs": [
    {
     "name": "stdout",
     "output_type": "stream",
     "text": [
      "Training model...\n",
      "\n",
      "Step      Train loss                                            Test loss                                             Test metric   \n",
      "0         [3.06e-02, 3.14e+05, 1.00e-10, 0.00e+00, 3.18e+03]    [3.06e-02, 3.14e+05, 1.00e-10, 0.00e+00, 3.18e+03]    [1.00e+00]    \n",
      "1000      [5.43e+00, 2.47e+05, 2.04e+02, 7.97e-10, 2.56e+03]    [5.43e+00, 2.47e+05, 2.04e+02, 7.97e-10, 2.56e+03]    [1.00e+00]    \n",
      "2000      [5.43e+00, 2.01e+05, 2.04e+02, 1.92e-11, 2.56e+03]    [5.43e+00, 2.01e+05, 2.04e+02, 1.92e-11, 2.56e+03]    [1.00e+00]    \n",
      "3000      [5.43e+00, 1.61e+05, 2.04e+02, 2.24e-12, 2.56e+03]    [5.43e+00, 1.61e+05, 2.04e+02, 2.24e-12, 2.56e+03]    [1.00e+00]    \n",
      "4000      [5.43e+00, 1.26e+05, 2.04e+02, 1.27e-12, 2.56e+03]    [5.43e+00, 1.26e+05, 2.04e+02, 1.27e-12, 2.56e+03]    [1.00e+00]    \n",
      "5000      [5.43e+00, 9.62e+04, 2.04e+02, 1.39e-08, 2.56e+03]    [5.43e+00, 9.62e+04, 2.04e+02, 1.39e-08, 2.56e+03]    [1.00e+00]    \n",
      "6000      [5.43e+00, 7.09e+04, 2.04e+02, 9.90e-06, 2.56e+03]    [5.43e+00, 7.09e+04, 2.04e+02, 9.90e-06, 2.56e+03]    [1.00e+00]    \n",
      "7000      [5.43e+00, 4.99e+04, 2.04e+02, 1.53e-10, 2.56e+03]    [5.43e+00, 4.99e+04, 2.04e+02, 1.53e-10, 2.56e+03]    [1.00e+00]    \n",
      "8000      [5.43e+00, 3.30e+04, 2.04e+02, 4.78e-10, 2.56e+03]    [5.43e+00, 3.30e+04, 2.04e+02, 4.78e-10, 2.56e+03]    [1.00e+00]    \n",
      "9000      [5.43e+00, 2.01e+04, 2.04e+02, 1.45e-11, 2.56e+03]    [5.43e+00, 2.01e+04, 2.04e+02, 1.45e-11, 2.56e+03]    [1.00e+00]    \n",
      "10000     [5.43e+00, 1.09e+04, 2.04e+02, 2.87e-06, 2.56e+03]    [5.43e+00, 1.09e+04, 2.04e+02, 2.87e-06, 2.56e+03]    [1.00e+00]    \n",
      "11000     [5.42e+00, 4.95e+03, 2.04e+02, 4.14e-10, 2.56e+03]    [5.42e+00, 4.95e+03, 2.04e+02, 4.14e-10, 2.56e+03]    [1.00e+00]    \n",
      "12000     [5.42e+00, 1.68e+03, 2.04e+02, 7.52e-12, 2.56e+03]    [5.42e+00, 1.68e+03, 2.04e+02, 7.52e-12, 2.56e+03]    [1.00e+00]    \n",
      "13000     [5.42e+00, 3.51e+02, 2.04e+02, 4.87e-08, 2.56e+03]    [5.42e+00, 3.51e+02, 2.04e+02, 4.87e-08, 2.56e+03]    [1.00e+00]    \n",
      "14000     [5.42e+00, 3.05e+01, 2.04e+02, 7.33e-09, 2.56e+03]    [5.42e+00, 3.05e+01, 2.04e+02, 7.33e-09, 2.56e+03]    [1.00e+00]    \n",
      "15000     [5.42e+00, 5.60e-01, 2.04e+02, 9.75e-12, 2.56e+03]    [5.42e+00, 5.60e-01, 2.04e+02, 9.75e-12, 2.56e+03]    [1.00e+00]    \n",
      "16000     [5.42e+00, 7.08e-04, 2.04e+02, 2.86e-07, 2.56e+03]    [5.42e+00, 7.08e-04, 2.04e+02, 2.86e-07, 2.56e+03]    [1.00e+00]    \n",
      "17000     [5.42e+00, 1.25e-05, 2.04e+02, 2.61e-11, 2.56e+03]    [5.42e+00, 1.25e-05, 2.04e+02, 2.61e-11, 2.56e+03]    [1.00e+00]    \n",
      "18000     [5.42e+00, 4.31e-06, 2.04e+02, 5.53e-11, 2.56e+03]    [5.42e+00, 4.31e-06, 2.04e+02, 5.53e-11, 2.56e+03]    [1.00e+00]    \n",
      "19000     [5.42e+00, 1.64e-06, 2.04e+02, 1.12e-07, 2.56e+03]    [5.42e+00, 1.64e-06, 2.04e+02, 1.12e-07, 2.56e+03]    [1.00e+00]    \n",
      "20000     [5.42e+00, 6.30e-07, 2.04e+02, 2.24e-09, 2.56e+03]    [5.42e+00, 6.30e-07, 2.04e+02, 2.24e-09, 2.56e+03]    [1.00e+00]    \n",
      "\n",
      "Best model at step 19000:\n",
      "  train loss: 2.77e+03\n",
      "  test loss: 2.77e+03\n",
      "  test metric: [1.00e+00]\n",
      "\n",
      "'train' took 150.742110 s\n",
      "\n"
     ]
    }
   ],
   "execution_count": 22
  },
  {
   "metadata": {},
   "cell_type": "markdown",
   "source": "Visualize and save the loss history.",
   "id": "86260843bdd047c9"
  },
  {
   "metadata": {
    "ExecuteTime": {
     "end_time": "2024-11-22T08:47:23.062789Z",
     "start_time": "2024-11-22T08:47:22.457904Z"
    }
   },
   "cell_type": "code",
   "source": [
    "# disable latex for deepxde plots\n",
    "plt.rc('text', usetex=False)\n",
    "\n",
    "dde.saveplot(loss_history, train_state, issave=True, isplot=True)"
   ],
   "id": "1644028b6280b866",
   "outputs": [
    {
     "name": "stdout",
     "output_type": "stream",
     "text": [
      "Saving loss history to /Users/giacomo/dev/notebooks/dde-playground/sir/loss.dat ...\n",
      "Saving training data to /Users/giacomo/dev/notebooks/dde-playground/sir/train.dat ...\n",
      "Saving test data to /Users/giacomo/dev/notebooks/dde-playground/sir/test.dat ...\n"
     ]
    },
    {
     "data": {
      "text/plain": [
       "<Figure size 640x480 with 1 Axes>"
      ],
      "image/png": "[encoded data removed]"
     },
     "metadata": {},
     "output_type": "display_data"
    },
    {
     "data": {
      "text/plain": [
       "<Figure size 640x480 with 1 Axes>"
      ],
      "image/png": "[encoded data removed]"
     },
     "metadata": {},
     "output_type": "display_data"
    }
   ],
   "execution_count": 23
  }
 ],
 "metadata": {
  "kernelspec": {
   "display_name": "Python 3",
   "language": "python",
   "name": "python3"
  },
  "language_info": {
   "codemirror_mode": {
    "name": "ipython",
    "version": 2
   },
   "file_extension": ".py",
   "mimetype": "text/x-python",
   "name": "python",
   "nbconvert_exporter": "python",
   "pygments_lexer": "ipython2",
   "version": "2.7.6"
  }
 },
 "nbformat": 4,
 "nbformat_minor": 5
}
