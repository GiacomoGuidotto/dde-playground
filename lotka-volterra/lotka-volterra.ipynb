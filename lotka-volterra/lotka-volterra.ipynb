{
 "cells": [
  {
   "metadata": {},
   "cell_type": "markdown",
   "source": [
    "# Lotka-Volterra equations\n",
    "\n",
    "Solving the Lotka-Volterra equations\n",
    "$$\n",
    "\\begin{align}\n",
    "\\begin{cases}\n",
    "\\frac{dr}{dt} &= \\frac{R}{U}\\left(2Ur - 0.04U^2rp\\right) \\\\\n",
    "\\frac{dp}{dt} &= \\frac{R}{U}\\left(0.02U^2rp - 1.06Up\\right)\n",
    "\\end{cases}\n",
    "\\end{align}\n",
    "$$\n",
    "\n",
    "used to model the population dynamics of predators and prey and slightly modified to include the upper boundary $U$ of the range and the right boundary $R$ of the range.\n",
    "\n",
    "We also have the initial conditions\n",
    "$$\n",
    "\\begin{align*}\n",
    "r(0) &= \\frac{100}{U} &\n",
    "p(0) &= \\frac{15}{U}\n",
    "\\end{align*}\n",
    "$$\n",
    "and the parameters\n",
    "$$\n",
    "\\begin{align*}\n",
    "U &= 200 & R &= 20\n",
    "\\end{align*}\n",
    "$$\n",
    "\n",
    "The reference solution is generated using `integrate.solve_ivp()` from `scipy`"
   ],
   "id": "eb6c7e28209703f6"
  },
  {
   "metadata": {
    "ExecuteTime": {
     "end_time": "2024-09-10T18:42:41.425598Z",
     "start_time": "2024-09-10T18:42:37.364116Z"
    }
   },
   "cell_type": "code",
   "source": [
    "import deepxde as dde\n",
    "from deepxde.backend import tf"
   ],
   "id": "9eb5d40e259a8485",
   "outputs": [
    {
     "name": "stderr",
     "output_type": "stream",
     "text": [
      "Using backend: tensorflow.compat.v1\n",
      "Other supported backends: tensorflow, pytorch, jax, paddle.\n",
      "paddle supports more examples now and is recommended.\n"
     ]
    },
    {
     "name": "stdout",
     "output_type": "stream",
     "text": [
      "WARNING:tensorflow:From /Users/giacomo/.miniforge/envs/tf/lib/python3.9/site-packages/tensorflow/python/compat/v2_compat.py:98: disable_resource_variables (from tensorflow.python.ops.resource_variables_toggle) is deprecated and will be removed in a future version.\n",
      "Instructions for updating:\n",
      "non-resource variables are not supported in the long term\n"
     ]
    }
   ],
   "execution_count": 1
  },
  {
   "metadata": {},
   "cell_type": "markdown",
   "source": "Define the parameters.",
   "id": "8570457393f63376"
  },
  {
   "metadata": {
    "ExecuteTime": {
     "end_time": "2024-09-10T18:42:41.433473Z",
     "start_time": "2024-09-10T18:42:41.431370Z"
    }
   },
   "cell_type": "code",
   "source": [
    "U = 200\n",
    "R = 20"
   ],
   "id": "8b2ce06392b5e992",
   "outputs": [],
   "execution_count": 2
  },
  {
   "metadata": {},
   "cell_type": "markdown",
   "source": "Define the time domain.",
   "id": "ba4361c89d3b8ff8"
  },
  {
   "metadata": {
    "ExecuteTime": {
     "end_time": "2024-09-10T18:42:41.593124Z",
     "start_time": "2024-09-10T18:42:41.590657Z"
    }
   },
   "cell_type": "code",
   "source": "geom = dde.geometry.TimeDomain(0., 1.)",
   "id": "d8bea5ea9123574e",
   "outputs": [],
   "execution_count": 3
  },
  {
   "metadata": {},
   "cell_type": "markdown",
   "source": "Define the ODE system.",
   "id": "e7efeb9952ca5c2f"
  },
  {
   "metadata": {
    "ExecuteTime": {
     "end_time": "2024-09-10T18:42:41.644Z",
     "start_time": "2024-09-10T18:42:41.640151Z"
    }
   },
   "cell_type": "code",
   "source": [
    "def ode_system(t, y):\n",
    "\tr = y[:, 0:1]\n",
    "\tp = y[:, 1:2]\n",
    "\tdr_dt = dde.grad.jacobian(y, t, i=0)\n",
    "\tdp_dt = dde.grad.jacobian(y, t, i=1)\n",
    "\treturn [\n",
    "\t\tdr_dt - R / U * (2. * U * r - 0.04 * U ** 2 * r * p),\n",
    "\t\tdp_dt - R / U * (0.02 * U ** 2 * r * p - 1.06 * U * p)\n",
    "\t]"
   ],
   "id": "ce9a583c4c19bd99",
   "outputs": [],
   "execution_count": 4
  },
  {
   "metadata": {},
   "cell_type": "markdown",
   "source": "Define the ODE problem without initial conditions (empty list) because since we want hard constraints on the initial conditions we will define them on the network.",
   "id": "a91d5374e8666e7f"
  },
  {
   "metadata": {
    "ExecuteTime": {
     "end_time": "2024-09-10T18:42:41.660760Z",
     "start_time": "2024-09-10T18:42:41.650495Z"
    }
   },
   "cell_type": "code",
   "source": "data = dde.data.PDE(geom, ode_system, [], 3000, 2, num_test = 3000)",
   "id": "9eb242140a288140",
   "outputs": [],
   "execution_count": 5
  },
  {
   "metadata": {},
   "cell_type": "markdown",
   "source": "Define the network.",
   "id": "9151ae45b0a165bf"
  },
  {
   "metadata": {
    "ExecuteTime": {
     "end_time": "2024-09-10T18:42:41.671958Z",
     "start_time": "2024-09-10T18:42:41.667674Z"
    }
   },
   "cell_type": "code",
   "source": [
    "layer_size = [1] + [50] * 6 + [2]\n",
    "activation = \"tanh\"\n",
    "initializer = \"Glorot uniform\"\n",
    "net = dde.nn.FNN(layer_size, activation, initializer)"
   ],
   "id": "7c206cc5246665b7",
   "outputs": [],
   "execution_count": 6
  },
  {
   "metadata": {},
   "cell_type": "markdown",
   "source": [
    "Since we expect to have periodic behavior in the Lotka-Volterra equation, we add a feature layer with $sin(kt)$\n",
    ". This forces the prediction to be periodic and therefore more accurate"
   ],
   "id": "d87124e29e1a4a5f"
  },
  {
   "metadata": {
    "ExecuteTime": {
     "end_time": "2024-09-10T18:42:41.683364Z",
     "start_time": "2024-09-10T18:42:41.680437Z"
    }
   },
   "cell_type": "code",
   "source": [
    "def input_transform(t):\n",
    "\treturn tf.concat([\n",
    "\t\tt,\n",
    "\t\ttf.sin(t),\n",
    "\t\ttf.sin(2 * t),\n",
    "\t\ttf.sin(3 * t),\n",
    "\t\ttf.sin(4 * t),\n",
    "\t\ttf.sin(5 * t),\n",
    "\t\ttf.sin(6 * t),\n",
    "\t], axis=1)\n"
   ],
   "id": "a4eab9a2586d6a35",
   "outputs": [],
   "execution_count": 7
  },
  {
   "metadata": {},
   "cell_type": "markdown",
   "source": "Define the hard constraints on the initial conditions by transforming the output.",
   "id": "f045a9eefb8b37ba"
  },
  {
   "metadata": {
    "ExecuteTime": {
     "end_time": "2024-09-10T18:42:41.694933Z",
     "start_time": "2024-09-10T18:42:41.691805Z"
    }
   },
   "cell_type": "code",
   "source": [
    "def output_transform(t, y):\n",
    "\tr = y[:, 0:1]\n",
    "\tp = y[:, 1:2]\n",
    "\t\n",
    "\treturn tf.concat([\n",
    "\t\tr * tf.tanh(t) + 100 / U,\n",
    "\t\tp * tf.tanh(t) + 15 / U,\n",
    "\t], axis=1)"
   ],
   "id": "447cc23757df451d",
   "outputs": [],
   "execution_count": 8
  },
  {
   "metadata": {},
   "cell_type": "markdown",
   "source": "Apply these layers to the network.",
   "id": "26f5da82abccd760"
  },
  {
   "metadata": {
    "ExecuteTime": {
     "end_time": "2024-09-10T18:42:41.705529Z",
     "start_time": "2024-09-10T18:42:41.703103Z"
    }
   },
   "cell_type": "code",
   "source": [
    "net.apply_feature_transform(input_transform)\n",
    "net.apply_output_transform(output_transform)"
   ],
   "id": "2c36072f5b92be51",
   "outputs": [],
   "execution_count": 9
  },
  {
   "metadata": {},
   "cell_type": "markdown",
   "source": "Define and train the model for 10000 iterations.",
   "id": "a66e666c75027ab7"
  },
  {
   "metadata": {
    "ExecuteTime": {
     "end_time": "2024-09-10T18:44:44.461902Z",
     "start_time": "2024-09-10T18:42:41.715332Z"
    }
   },
   "cell_type": "code",
   "source": [
    "model = dde.Model(data, net)\n",
    "model.compile(\"adam\", lr=0.001)\n",
    "model.train(iterations=10000)"
   ],
   "id": "1099d7e6c12b978f",
   "outputs": [
    {
     "name": "stdout",
     "output_type": "stream",
     "text": [
      "Compiling model...\n",
      "Building feed-forward neural network...\n",
      "'build' took 0.058199 s\n",
      "\n",
      "'compile' took 0.426544 s\n",
      "\n",
      "Training model...\n",
      "\n",
      "Step      Train loss              Test loss               Test metric\n",
      "0         [6.03e+02, 1.91e+00]    [6.04e+02, 1.91e+00]    []  \n"
     ]
    },
    {
     "name": "stderr",
     "output_type": "stream",
     "text": [
      "2024-09-10 20:42:42.156412: I tensorflow/compiler/mlir/mlir_graph_optimization_pass.cc:388] MLIR V1 optimization pass is not enabled\n"
     ]
    },
    {
     "name": "stdout",
     "output_type": "stream",
     "text": [
      "1000      [4.16e+00, 2.63e-01]    [4.03e+00, 2.59e-01]    []  \n",
      "2000      [2.44e+00, 5.76e-01]    [2.32e+00, 5.64e-01]    []  \n",
      "3000      [1.64e+00, 7.25e-01]    [1.55e+00, 7.06e-01]    []  \n",
      "4000      [2.25e+00, 8.59e-01]    [2.18e+00, 8.40e-01]    []  \n",
      "5000      [6.79e-01, 4.83e-01]    [6.36e-01, 4.68e-01]    []  \n",
      "6000      [4.32e-01, 3.41e-01]    [4.10e-01, 3.30e-01]    []  \n",
      "7000      [2.49e-01, 2.62e-01]    [2.39e-01, 2.53e-01]    []  \n",
      "8000      [1.45e-01, 2.12e-01]    [1.40e-01, 2.04e-01]    []  \n",
      "9000      [1.13e-01, 1.70e-01]    [1.11e-01, 1.65e-01]    []  \n",
      "10000     [8.54e-02, 1.45e-01]    [8.47e-02, 1.41e-01]    []  \n",
      "\n",
      "Best model at step 10000:\n",
      "  train loss: 2.31e-01\n",
      "  test loss: 2.26e-01\n",
      "  test metric: []\n",
      "\n",
      "'train' took 122.312144 s\n",
      "\n"
     ]
    },
    {
     "data": {
      "text/plain": [
       "(<deepxde.model.LossHistory at 0x15b955f40>,\n",
       " <deepxde.model.TrainState at 0x15b955160>)"
      ]
     },
     "execution_count": 10,
     "metadata": {},
     "output_type": "execute_result"
    }
   ],
   "execution_count": 10
  },
  {
   "metadata": {},
   "cell_type": "markdown",
   "source": "After training with Adam, we continue with L-BFGS to have an even smaller loss:",
   "id": "ace08b785cc22a7e"
  },
  {
   "metadata": {
    "ExecuteTime": {
     "end_time": "2024-09-10T18:44:45.512749Z",
     "start_time": "2024-09-10T18:44:44.494171Z"
    }
   },
   "cell_type": "code",
   "source": [
    "model.compile(\"L-BFGS-B\")\n",
    "loss_history, train_state = model.train()"
   ],
   "id": "c4beaa344809a7d2",
   "outputs": [
    {
     "name": "stdout",
     "output_type": "stream",
     "text": [
      "Compiling model...\n",
      "'compile' took 0.198692 s\n",
      "\n",
      "Training model...\n",
      "\n",
      "Step      Train loss              Test loss               Test metric\n",
      "10000     [8.54e-02, 1.45e-01]    [8.47e-02, 1.41e-01]    []  \n",
      "INFO:tensorflow:Optimization terminated with:\n",
      "  Message: CONVERGENCE: REL_REDUCTION_OF_F_<=_FACTR*EPSMCH\n",
      "  Objective function value: 0.230606\n",
      "  Number of iterations: 1\n",
      "  Number of functions evaluations: 31\n",
      "10031     [8.54e-02, 1.45e-01]    [8.47e-02, 1.41e-01]    []  \n",
      "\n",
      "Best model at step 10000:\n",
      "  train loss: 2.31e-01\n",
      "  test loss: 2.26e-01\n",
      "  test metric: []\n",
      "\n",
      "'train' took 0.817164 s\n",
      "\n"
     ]
    }
   ],
   "execution_count": 11
  },
  {
   "metadata": {},
   "cell_type": "markdown",
   "source": "Visualize the loss history and saving the plots.",
   "id": "6fc5fd801d3266a"
  },
  {
   "metadata": {
    "ExecuteTime": {
     "end_time": "2024-09-10T18:44:46.058382Z",
     "start_time": "2024-09-10T18:44:45.517536Z"
    }
   },
   "cell_type": "code",
   "source": "dde.saveplot(loss_history, train_state, issave=True, isplot=True)",
   "id": "1356d9e193c4a14",
   "outputs": [
    {
     "name": "stdout",
     "output_type": "stream",
     "text": [
      "Saving loss history to /Users/giacomo/dev/notebooks/dde-playground/lotka-volterra/loss.dat ...\n",
      "Saving training data to /Users/giacomo/dev/notebooks/dde-playground/lotka-volterra/train.dat ...\n",
      "Saving test data to /Users/giacomo/dev/notebooks/dde-playground/lotka-volterra/test.dat ...\n"
     ]
    },
    {
     "data": {
      "text/plain": [
       "<Figure size 640x480 with 1 Axes>"
      ],
      "image/png": "[encoded data removed]"
     },
     "metadata": {},
     "output_type": "display_data"
    },
    {
     "data": {
      "text/plain": [
       "<Figure size 640x480 with 1 Axes>"
      ],
      "image/png": "[encoded data removed]"
     },
     "metadata": {},
     "output_type": "display_data"
    }
   ],
   "execution_count": 12
  }
 ],
 "metadata": {
  "kernelspec": {
   "display_name": "Python 3",
   "language": "python",
   "name": "python3"
  },
  "language_info": {
   "codemirror_mode": {
    "name": "ipython",
    "version": 2
   },
   "file_extension": ".py",
   "mimetype": "text/x-python",
   "name": "python",
   "nbconvert_exporter": "python",
   "pygments_lexer": "ipython2",
   "version": "2.7.6"
  }
 },
 "nbformat": 4,
 "nbformat_minor": 5
}
