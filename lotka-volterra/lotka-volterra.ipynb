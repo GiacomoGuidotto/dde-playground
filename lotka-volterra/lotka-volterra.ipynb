{
 "cells": [
  {
   "metadata": {},
   "cell_type": "markdown",
   "source": [
    "# Lotka-Volterra equations\n",
    "\n",
    "Solving the Lotka-Volterra equations\n",
    "$$\n",
    "\\begin{align}\n",
    "\\begin{cases}\n",
    "\\frac{dr}{dt} &= \\frac{R}{U}\\left(2Ur - 0.04U^2rp\\right) \\\\\n",
    "\\frac{dp}{dt} &= \\frac{R}{U}\\left(0.02U^2rp - 1.06Up\\right)\n",
    "\\end{cases}\n",
    "\\end{align}\n",
    "$$\n",
    "\n",
    "used to model the population dynamics of predators and prey and slightly modified to include the upper boundary $U$ of the range and the right boundary $R$ of the range.\n",
    "\n",
    "We also have the initial conditions\n",
    "$$\n",
    "\\begin{align*}\n",
    "r(0) &= \\frac{100}{U} &\n",
    "p(0) &= \\frac{15}{U}\n",
    "\\end{align*}\n",
    "$$\n",
    "and the parameters\n",
    "$$\n",
    "\\begin{align*}\n",
    "U &= 200 & R &= 20\n",
    "\\end{align*}\n",
    "$$\n",
    "\n",
    "The reference solution is generated using `integrate.solve_ivp()` from `scipy`"
   ],
   "id": "eb6c7e28209703f6"
  },
  {
   "metadata": {
    "ExecuteTime": {
     "end_time": "2024-10-24T12:53:18.044537Z",
     "start_time": "2024-10-24T12:53:14.332903Z"
    }
   },
   "cell_type": "code",
   "source": [
    "import deepxde as dde\n",
    "from deepxde.backend import tf"
   ],
   "id": "9eb5d40e259a8485",
   "outputs": [
    {
     "name": "stderr",
     "output_type": "stream",
     "text": [
      "Using backend: tensorflow.compat.v1\n",
      "Other supported backends: tensorflow, pytorch, jax, paddle.\n",
      "paddle supports more examples now and is recommended.\n"
     ]
    },
    {
     "name": "stdout",
     "output_type": "stream",
     "text": [
      "WARNING:tensorflow:From /Users/giacomo/.miniforge/envs/tf/lib/python3.9/site-packages/tensorflow/python/compat/v2_compat.py:98: disable_resource_variables (from tensorflow.python.ops.resource_variables_toggle) is deprecated and will be removed in a future version.\n",
      "Instructions for updating:\n",
      "non-resource variables are not supported in the long term\n"
     ]
    }
   ],
   "execution_count": 1
  },
  {
   "metadata": {},
   "cell_type": "markdown",
   "source": "Define the parameters.",
   "id": "8570457393f63376"
  },
  {
   "metadata": {
    "ExecuteTime": {
     "end_time": "2024-10-24T12:53:18.052352Z",
     "start_time": "2024-10-24T12:53:18.049559Z"
    }
   },
   "cell_type": "code",
   "source": [
    "U = 200\n",
    "R = 20"
   ],
   "id": "8b2ce06392b5e992",
   "outputs": [],
   "execution_count": 2
  },
  {
   "metadata": {},
   "cell_type": "markdown",
   "source": "Define the time domain.",
   "id": "ba4361c89d3b8ff8"
  },
  {
   "metadata": {
    "ExecuteTime": {
     "end_time": "2024-10-24T12:53:18.187278Z",
     "start_time": "2024-10-24T12:53:18.184831Z"
    }
   },
   "cell_type": "code",
   "source": "geom = dde.geometry.TimeDomain(0., 1.)",
   "id": "d8bea5ea9123574e",
   "outputs": [],
   "execution_count": 3
  },
  {
   "metadata": {},
   "cell_type": "markdown",
   "source": "Define the ODE system.",
   "id": "e7efeb9952ca5c2f"
  },
  {
   "metadata": {
    "ExecuteTime": {
     "end_time": "2024-10-24T12:53:18.197631Z",
     "start_time": "2024-10-24T12:53:18.194265Z"
    }
   },
   "cell_type": "code",
   "source": [
    "def ode_system(t, y):\n",
    "\tr = y[:, 0:1]\n",
    "\tp = y[:, 1:2]\n",
    "\tdr_dt = dde.grad.jacobian(y, t, i=0)\n",
    "\tdp_dt = dde.grad.jacobian(y, t, i=1)\n",
    "\treturn [\n",
    "\t\tdr_dt - R / U * (2. * U * r - 0.04 * U ** 2 * r * p),\n",
    "\t\tdp_dt - R / U * (0.02 * U ** 2 * r * p - 1.06 * U * p)\n",
    "\t]"
   ],
   "id": "ce9a583c4c19bd99",
   "outputs": [],
   "execution_count": 4
  },
  {
   "metadata": {},
   "cell_type": "markdown",
   "source": "Define the ODE problem without initial conditions (empty list) because since we want hard constraints on the initial conditions we will define them on the network.",
   "id": "a91d5374e8666e7f"
  },
  {
   "metadata": {
    "ExecuteTime": {
     "end_time": "2024-10-24T12:53:18.214132Z",
     "start_time": "2024-10-24T12:53:18.204630Z"
    }
   },
   "cell_type": "code",
   "source": "data = dde.data.PDE(geom, ode_system, [], 3000, 2, num_test = 3000)",
   "id": "9eb242140a288140",
   "outputs": [],
   "execution_count": 5
  },
  {
   "metadata": {},
   "cell_type": "markdown",
   "source": "Define the network.",
   "id": "9151ae45b0a165bf"
  },
  {
   "metadata": {
    "ExecuteTime": {
     "end_time": "2024-10-24T12:53:18.223845Z",
     "start_time": "2024-10-24T12:53:18.220456Z"
    }
   },
   "cell_type": "code",
   "source": [
    "layer_size = [1] + [50] * 6 + [2]\n",
    "activation = \"tanh\"\n",
    "initializer = \"Glorot uniform\"\n",
    "net = dde.nn.FNN(layer_size, activation, initializer)"
   ],
   "id": "7c206cc5246665b7",
   "outputs": [],
   "execution_count": 6
  },
  {
   "metadata": {},
   "cell_type": "markdown",
   "source": [
    "Since we expect to have periodic behavior in the Lotka-Volterra equation, we add a feature layer with $sin(kt)$\n",
    ". This forces the prediction to be periodic and therefore more accurate"
   ],
   "id": "d87124e29e1a4a5f"
  },
  {
   "metadata": {
    "ExecuteTime": {
     "end_time": "2024-10-24T12:53:18.232915Z",
     "start_time": "2024-10-24T12:53:18.230286Z"
    }
   },
   "cell_type": "code",
   "source": [
    "def input_transform(t):\n",
    "\treturn tf.concat([\n",
    "\t\tt,\n",
    "\t\ttf.sin(t),\n",
    "\t\ttf.sin(2 * t),\n",
    "\t\ttf.sin(3 * t),\n",
    "\t\ttf.sin(4 * t),\n",
    "\t\ttf.sin(5 * t),\n",
    "\t\ttf.sin(6 * t),\n",
    "\t], axis=1)\n"
   ],
   "id": "a4eab9a2586d6a35",
   "outputs": [],
   "execution_count": 7
  },
  {
   "metadata": {},
   "cell_type": "markdown",
   "source": "Define the hard constraints on the initial conditions by transforming the output.",
   "id": "f045a9eefb8b37ba"
  },
  {
   "metadata": {
    "ExecuteTime": {
     "end_time": "2024-10-24T12:53:18.242160Z",
     "start_time": "2024-10-24T12:53:18.239183Z"
    }
   },
   "cell_type": "code",
   "source": [
    "def output_transform(t, y):\n",
    "\tr = y[:, 0:1]\n",
    "\tp = y[:, 1:2]\n",
    "\t\n",
    "\treturn tf.concat([\n",
    "\t\tr * tf.tanh(t) + 100 / U,\n",
    "\t\tp * tf.tanh(t) + 15 / U,\n",
    "\t], axis=1)"
   ],
   "id": "447cc23757df451d",
   "outputs": [],
   "execution_count": 8
  },
  {
   "metadata": {},
   "cell_type": "markdown",
   "source": "Apply these layers to the network.",
   "id": "26f5da82abccd760"
  },
  {
   "metadata": {
    "ExecuteTime": {
     "end_time": "2024-10-24T12:53:18.250808Z",
     "start_time": "2024-10-24T12:53:18.248827Z"
    }
   },
   "cell_type": "code",
   "source": [
    "net.apply_feature_transform(input_transform)\n",
    "net.apply_output_transform(output_transform)"
   ],
   "id": "2c36072f5b92be51",
   "outputs": [],
   "execution_count": 9
  },
  {
   "metadata": {},
   "cell_type": "markdown",
   "source": "Define and train the model for 10000 iterations.",
   "id": "a66e666c75027ab7"
  },
  {
   "metadata": {
    "ExecuteTime": {
     "end_time": "2024-10-24T12:57:52.264668Z",
     "start_time": "2024-10-24T12:53:18.258450Z"
    }
   },
   "cell_type": "code",
   "source": [
    "model = dde.Model(data, net)\n",
    "model.compile(\"adam\", lr=0.001)\n",
    "model.train(iterations=10000)"
   ],
   "id": "1099d7e6c12b978f",
   "outputs": [
    {
     "name": "stdout",
     "output_type": "stream",
     "text": [
      "Compiling model...\n",
      "Building feed-forward neural network...\n",
      "'build' took 0.059810 s\n",
      "\n",
      "'compile' took 0.446173 s\n",
      "\n",
      "Training model...\n",
      "\n",
      "Step      Train loss              Test loss               Test metric\n",
      "0         [9.39e+02, 1.09e+01]    [9.40e+02, 1.09e+01]    []  \n"
     ]
    },
    {
     "name": "stderr",
     "output_type": "stream",
     "text": [
      "2024-10-24 14:53:18.719802: I tensorflow/compiler/mlir/mlir_graph_optimization_pass.cc:388] MLIR V1 optimization pass is not enabled\n"
     ]
    },
    {
     "name": "stdout",
     "output_type": "stream",
     "text": [
      "1000      [2.81e+00, 6.51e-01]    [2.70e+00, 6.43e-01]    []  \n",
      "2000      [1.48e+00, 6.94e-01]    [1.41e+00, 6.80e-01]    []  \n",
      "3000      [8.84e-01, 5.36e-01]    [8.32e-01, 5.21e-01]    []  \n",
      "4000      [5.70e-01, 3.69e-01]    [5.42e-01, 3.59e-01]    []  \n",
      "5000      [3.42e-01, 3.14e-01]    [3.27e-01, 3.04e-01]    []  \n",
      "6000      [2.25e-01, 2.51e-01]    [2.18e-01, 2.44e-01]    []  \n",
      "7000      [1.57e-01, 1.91e-01]    [1.54e-01, 1.85e-01]    []  \n",
      "8000      [9.25e-02, 1.55e-01]    [9.10e-02, 1.52e-01]    []  \n",
      "9000      [7.53e-02, 1.21e-01]    [7.47e-02, 1.19e-01]    []  \n",
      "10000     [7.16e-02, 8.82e-02]    [7.14e-02, 8.64e-02]    []  \n",
      "\n",
      "Best model at step 10000:\n",
      "  train loss: 1.60e-01\n",
      "  test loss: 1.58e-01\n",
      "  test metric: []\n",
      "\n",
      "'train' took 273.552163 s\n",
      "\n"
     ]
    },
    {
     "data": {
      "text/plain": [
       "(<deepxde.model.LossHistory at 0x1787b08e0>,\n",
       " <deepxde.model.TrainState at 0x1787b0220>)"
      ]
     },
     "execution_count": 10,
     "metadata": {},
     "output_type": "execute_result"
    }
   ],
   "execution_count": 10
  },
  {
   "metadata": {},
   "cell_type": "markdown",
   "source": "After training with Adam, we continue with L-BFGS to have an even smaller loss:",
   "id": "ace08b785cc22a7e"
  },
  {
   "metadata": {
    "ExecuteTime": {
     "end_time": "2024-10-24T12:57:56.510643Z",
     "start_time": "2024-10-24T12:57:52.361413Z"
    }
   },
   "cell_type": "code",
   "source": [
    "model.compile(\"L-BFGS-B\")\n",
    "loss_history, train_state = model.train()"
   ],
   "id": "c4beaa344809a7d2",
   "outputs": [
    {
     "name": "stdout",
     "output_type": "stream",
     "text": [
      "Compiling model...\n",
      "'compile' took 1.221281 s\n",
      "\n",
      "Training model...\n",
      "\n",
      "Step      Train loss              Test loss               Test metric\n",
      "10000     [7.16e-02, 8.82e-02]    [7.14e-02, 8.64e-02]    []  \n",
      "INFO:tensorflow:Optimization terminated with:\n",
      "  Message: CONVERGENCE: REL_REDUCTION_OF_F_<=_FACTR*EPSMCH\n",
      "  Objective function value: 0.159832\n",
      "  Number of iterations: 1\n",
      "  Number of functions evaluations: 35\n",
      "10035     [7.16e-02, 8.82e-02]    [7.14e-02, 8.64e-02]    []  \n",
      "\n",
      "Best model at step 10000:\n",
      "  train loss: 1.60e-01\n",
      "  test loss: 1.58e-01\n",
      "  test metric: []\n",
      "\n",
      "'train' took 2.918662 s\n",
      "\n"
     ]
    }
   ],
   "execution_count": 11
  },
  {
   "metadata": {},
   "cell_type": "markdown",
   "source": "Visualize the loss history and saving the plots.",
   "id": "6fc5fd801d3266a"
  },
  {
   "metadata": {
    "ExecuteTime": {
     "end_time": "2024-10-24T12:57:58.535484Z",
     "start_time": "2024-10-24T12:57:56.527237Z"
    }
   },
   "cell_type": "code",
   "source": "dde.saveplot(loss_history, train_state, issave=True, isplot=True)",
   "id": "1356d9e193c4a14",
   "outputs": [
    {
     "name": "stdout",
     "output_type": "stream",
     "text": [
      "Saving loss history to /Users/giacomo/dev/notebooks/dde-playground/lotka-volterra/loss.dat ...\n",
      "Saving training data to /Users/giacomo/dev/notebooks/dde-playground/lotka-volterra/train.dat ...\n",
      "Saving test data to /Users/giacomo/dev/notebooks/dde-playground/lotka-volterra/test.dat ...\n"
     ]
    },
    {
     "data": {
      "text/plain": [
       "<Figure size 640x480 with 1 Axes>"
      ],
      "image/png": "[encoded data removed]"
     },
     "metadata": {},
     "output_type": "display_data"
    },
    {
     "data": {
      "text/plain": [
       "<Figure size 640x480 with 1 Axes>"
      ],
      "image/png": "[encoded data removed]"
     },
     "metadata": {},
     "output_type": "display_data"
    }
   ],
   "execution_count": 12
  }
 ],
 "metadata": {
  "kernelspec": {
   "display_name": "Python 3",
   "language": "python",
   "name": "python3"
  },
  "language_info": {
   "codemirror_mode": {
    "name": "ipython",
    "version": 2
   },
   "file_extension": ".py",
   "mimetype": "text/x-python",
   "name": "python",
   "nbconvert_exporter": "python",
   "pygments_lexer": "ipython2",
   "version": "2.7.6"
  }
 },
 "nbformat": 4,
 "nbformat_minor": 5
}
